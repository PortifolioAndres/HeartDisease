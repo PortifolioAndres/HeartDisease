{
 "cells": [
  {
   "cell_type": "markdown",
   "metadata": {},
   "source": [
    "# Heart Disease with Machine Learning\n",
    "Previsão de Doenças do coraçao com machine Learning\n",
    "\n",
    "Heart disease is the number one cause of death worldwide. This dataset is from a study of heart disease that has been open to the public for many years. The study collects various measurements on patient health and cardiovascular statistics, and of course makes patient identities anonymous.\n",
    "\n",
    "The  Performance is evaluated according to binary log loss."
   ]
  },
  {
   "cell_type": "markdown",
   "metadata": {},
   "source": [
    "#### The Data Set\n",
    "\n",
    "There are 14 columns in the dataset, where the patient_id column is a unique and random identifier. The remaining 13 features are described in the section below.\n",
    "\n",
    "1. slope_of_peak_exercise_st_segment (type: int): the slope of the peak exercise ST segment, an electrocardiography read out indicating quality of blood flow to the heart\n",
    "\n",
    "2. thal (type: categorical): results of thallium stress test measuring blood flow to the heart, with possible values normal, fixed_defect, reversible_defect\n",
    "\n",
    "3. resting_blood_pressure (type: int): resting blood pressure\n",
    "\n",
    "4. chest_pain_type (type: int): chest pain type (4 values)\n",
    "\n",
    "5. num_major_vessels (type: int): number of major vessels (0-3) colored by flourosopy\n",
    "\n",
    "6. fasting_blood_sugar_gt_120_mg_per_dl (type: binary): fasting blood sugar > 120 mg/dl\n",
    "\n",
    "7. esting_ekg_results (type: int): resting electrocardiographic results (values 0,1,2)\n",
    "\n",
    "8. serum_cholesterol_mg_per_dl (type: int): serum cholestoral in mg/dl\n",
    "\n",
    "9. oldpeak_eq_st_depression (type: float): oldpeak = ST depression induced by exercise relative to rest, a measure of abnormality in electrocardiograms\n",
    "\n",
    "10. sex (type: binary): 0: female, 1: male\n",
    "\n",
    "11. age (type: int): age in years\n",
    "\n",
    "12. max_heart_rate_achieved (type: int): maximum heart rate achieved (beats per minute)\n",
    "\n",
    "13. exercise_induced_angina (type: binary): exercise-induced chest pain (0: False, 1: True)"
   ]
  }
 ],
 "metadata": {
  "kernelspec": {
   "display_name": "Python 3",
   "language": "python",
   "name": "python3"
  },
  "language_info": {
   "codemirror_mode": {
    "name": "ipython",
    "version": 3
   },
   "file_extension": ".py",
   "mimetype": "text/x-python",
   "name": "python",
   "nbconvert_exporter": "python",
   "pygments_lexer": "ipython3",
   "version": "3.7.3"
  }
 },
 "nbformat": 4,
 "nbformat_minor": 2
}
